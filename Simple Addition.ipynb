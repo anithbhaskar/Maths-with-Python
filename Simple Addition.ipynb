{
 "cells": [
  {
   "cell_type": "code",
   "execution_count": null,
   "id": "a73a3055-cab4-4890-b5bc-a6fa8ef23182",
   "metadata": {},
   "outputs": [],
   "source": [
    "##Simple Addition\n",
    "x = int(input(\"Enter your Number: \"))\n",
    "y = int(input(\"Enter the number to be Added: \"))\n",
    "total = str(x + y)\n",
    "print(\"The Sum is\" + total)"
   ]
  },
  {
   "cell_type": "code",
   "execution_count": null,
   "id": "907d1982-8656-4a7b-9676-32f94753cf55",
   "metadata": {},
   "outputs": [],
   "source": []
  }
 ],
 "metadata": {
  "kernelspec": {
   "display_name": "Python 3 (ipykernel)",
   "language": "python",
   "name": "python3"
  },
  "language_info": {
   "codemirror_mode": {
    "name": "ipython",
    "version": 3
   },
   "file_extension": ".py",
   "mimetype": "text/x-python",
   "name": "python",
   "nbconvert_exporter": "python",
   "pygments_lexer": "ipython3",
   "version": "3.11.7"
  }
 },
 "nbformat": 4,
 "nbformat_minor": 5
}
